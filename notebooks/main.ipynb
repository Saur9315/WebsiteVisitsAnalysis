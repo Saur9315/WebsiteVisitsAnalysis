{
 "cells": [
  {
   "cell_type": "code",
   "execution_count": 79,
   "metadata": {
    "collapsed": true
   },
   "outputs": [],
   "source": [
    "import pandas as pd\n",
    "import numpy as np"
   ]
  },
  {
   "cell_type": "code",
   "execution_count": 80,
   "outputs": [
    {
     "data": {
      "text/plain": "   Row        Day  Day.Of.Week       Date Page.Loads Unique.Visits  \\\n0    1     Sunday            1  9/14/2014      2,146         1,582   \n1    2     Monday            2  9/15/2014      3,621         2,528   \n2    3    Tuesday            3  9/16/2014      3,698         2,630   \n3    4  Wednesday            4  9/17/2014      3,667         2,614   \n4    5   Thursday            5  9/18/2014      3,316         2,366   \n\n  First.Time.Visits Returning.Visits  \n0             1,430              152  \n1             2,297              231  \n2             2,352              278  \n3             2,327              287  \n4             2,130              236  ",
      "text/html": "<div>\n<style scoped>\n    .dataframe tbody tr th:only-of-type {\n        vertical-align: middle;\n    }\n\n    .dataframe tbody tr th {\n        vertical-align: top;\n    }\n\n    .dataframe thead th {\n        text-align: right;\n    }\n</style>\n<table border=\"1\" class=\"dataframe\">\n  <thead>\n    <tr style=\"text-align: right;\">\n      <th></th>\n      <th>Row</th>\n      <th>Day</th>\n      <th>Day.Of.Week</th>\n      <th>Date</th>\n      <th>Page.Loads</th>\n      <th>Unique.Visits</th>\n      <th>First.Time.Visits</th>\n      <th>Returning.Visits</th>\n    </tr>\n  </thead>\n  <tbody>\n    <tr>\n      <th>0</th>\n      <td>1</td>\n      <td>Sunday</td>\n      <td>1</td>\n      <td>9/14/2014</td>\n      <td>2,146</td>\n      <td>1,582</td>\n      <td>1,430</td>\n      <td>152</td>\n    </tr>\n    <tr>\n      <th>1</th>\n      <td>2</td>\n      <td>Monday</td>\n      <td>2</td>\n      <td>9/15/2014</td>\n      <td>3,621</td>\n      <td>2,528</td>\n      <td>2,297</td>\n      <td>231</td>\n    </tr>\n    <tr>\n      <th>2</th>\n      <td>3</td>\n      <td>Tuesday</td>\n      <td>3</td>\n      <td>9/16/2014</td>\n      <td>3,698</td>\n      <td>2,630</td>\n      <td>2,352</td>\n      <td>278</td>\n    </tr>\n    <tr>\n      <th>3</th>\n      <td>4</td>\n      <td>Wednesday</td>\n      <td>4</td>\n      <td>9/17/2014</td>\n      <td>3,667</td>\n      <td>2,614</td>\n      <td>2,327</td>\n      <td>287</td>\n    </tr>\n    <tr>\n      <th>4</th>\n      <td>5</td>\n      <td>Thursday</td>\n      <td>5</td>\n      <td>9/18/2014</td>\n      <td>3,316</td>\n      <td>2,366</td>\n      <td>2,130</td>\n      <td>236</td>\n    </tr>\n  </tbody>\n</table>\n</div>"
     },
     "execution_count": 80,
     "metadata": {},
     "output_type": "execute_result"
    }
   ],
   "source": [
    "df = pd.read_csv('../data/daily-website-visitors.csv')\n",
    "df.head()"
   ],
   "metadata": {
    "collapsed": false,
    "pycharm": {
     "name": "#%%\n"
    }
   }
  },
  {
   "cell_type": "code",
   "execution_count": 81,
   "outputs": [
    {
     "data": {
      "text/plain": "   Row        Day  Day.Of.Week       Date  Page.Loads  Unique.Visits  \\\n0    1     Sunday            1 2014-09-14       2.146          1.582   \n1    2     Monday            2 2014-09-15       3.621          2.528   \n2    3    Tuesday            3 2014-09-16       3.698          2.630   \n3    4  Wednesday            4 2014-09-17       3.667          2.614   \n4    5   Thursday            5 2014-09-18       3.316          2.366   \n\n   First.Time.Visits  Returning.Visits  Year  Month  DayMonth  \n0              1.430             152.0  2014      9        14  \n1              2.297             231.0  2014      9        15  \n2              2.352             278.0  2014      9        16  \n3              2.327             287.0  2014      9        17  \n4              2.130             236.0  2014      9        18  ",
      "text/html": "<div>\n<style scoped>\n    .dataframe tbody tr th:only-of-type {\n        vertical-align: middle;\n    }\n\n    .dataframe tbody tr th {\n        vertical-align: top;\n    }\n\n    .dataframe thead th {\n        text-align: right;\n    }\n</style>\n<table border=\"1\" class=\"dataframe\">\n  <thead>\n    <tr style=\"text-align: right;\">\n      <th></th>\n      <th>Row</th>\n      <th>Day</th>\n      <th>Day.Of.Week</th>\n      <th>Date</th>\n      <th>Page.Loads</th>\n      <th>Unique.Visits</th>\n      <th>First.Time.Visits</th>\n      <th>Returning.Visits</th>\n      <th>Year</th>\n      <th>Month</th>\n      <th>DayMonth</th>\n    </tr>\n  </thead>\n  <tbody>\n    <tr>\n      <th>0</th>\n      <td>1</td>\n      <td>Sunday</td>\n      <td>1</td>\n      <td>2014-09-14</td>\n      <td>2.146</td>\n      <td>1.582</td>\n      <td>1.430</td>\n      <td>152.0</td>\n      <td>2014</td>\n      <td>9</td>\n      <td>14</td>\n    </tr>\n    <tr>\n      <th>1</th>\n      <td>2</td>\n      <td>Monday</td>\n      <td>2</td>\n      <td>2014-09-15</td>\n      <td>3.621</td>\n      <td>2.528</td>\n      <td>2.297</td>\n      <td>231.0</td>\n      <td>2014</td>\n      <td>9</td>\n      <td>15</td>\n    </tr>\n    <tr>\n      <th>2</th>\n      <td>3</td>\n      <td>Tuesday</td>\n      <td>3</td>\n      <td>2014-09-16</td>\n      <td>3.698</td>\n      <td>2.630</td>\n      <td>2.352</td>\n      <td>278.0</td>\n      <td>2014</td>\n      <td>9</td>\n      <td>16</td>\n    </tr>\n    <tr>\n      <th>3</th>\n      <td>4</td>\n      <td>Wednesday</td>\n      <td>4</td>\n      <td>2014-09-17</td>\n      <td>3.667</td>\n      <td>2.614</td>\n      <td>2.327</td>\n      <td>287.0</td>\n      <td>2014</td>\n      <td>9</td>\n      <td>17</td>\n    </tr>\n    <tr>\n      <th>4</th>\n      <td>5</td>\n      <td>Thursday</td>\n      <td>5</td>\n      <td>2014-09-18</td>\n      <td>3.316</td>\n      <td>2.366</td>\n      <td>2.130</td>\n      <td>236.0</td>\n      <td>2014</td>\n      <td>9</td>\n      <td>18</td>\n    </tr>\n  </tbody>\n</table>\n</div>"
     },
     "execution_count": 81,
     "metadata": {},
     "output_type": "execute_result"
    }
   ],
   "source": [
    "df['Date'] = pd.to_datetime(df['Date'], format='%m/%d/%Y')\n",
    "df['Date'] = df['Date'].dt.strftime('%Y-%m-%d')\n",
    "df['Date'] = pd.to_datetime(df['Date'])\n",
    "\n",
    "df['Year'] = df['Date'].dt.year\n",
    "df['Month'] = df['Date'].dt.month\n",
    "df['DayMonth'] = df['Date'].dt.day\n",
    "\n",
    "replace_ch = {',': '.'}\n",
    "for col in ['Page.Loads', 'Unique.Visits', 'First.Time.Visits', 'Returning.Visits']:\n",
    "    df[col] = df[col].str.replace(',', '.')\n",
    "    df[col] = pd.to_numeric(df[col])\n",
    "\n",
    "df.head()\n",
    "# type(df['Date'][0])"
   ],
   "metadata": {
    "collapsed": false,
    "pycharm": {
     "name": "#%%\n"
    }
   }
  },
  {
   "cell_type": "code",
   "execution_count": 97,
   "outputs": [
    {
     "name": "stdout",
     "output_type": "stream",
     "text": [
      "Epoch [1/50], Loss: 31.6869\n",
      "Epoch [2/50], Loss: 31.1439\n",
      "Epoch [3/50], Loss: 2.4979\n",
      "Epoch [4/50], Loss: 2.3410\n",
      "Epoch [5/50], Loss: 13.5133\n",
      "Epoch [6/50], Loss: 15.8477\n",
      "Epoch [7/50], Loss: 44.2025\n",
      "Epoch [8/50], Loss: 40.7605\n",
      "Epoch [9/50], Loss: 1.4563\n",
      "Epoch [10/50], Loss: 1.5014\n",
      "Epoch [11/50], Loss: 15.3617\n",
      "Epoch [12/50], Loss: 15.8493\n",
      "Epoch [13/50], Loss: 12.4118\n",
      "Epoch [14/50], Loss: 16.0175\n",
      "Epoch [15/50], Loss: 26.3408\n",
      "Epoch [16/50], Loss: 14.1017\n",
      "Epoch [17/50], Loss: 15.9186\n",
      "Epoch [18/50], Loss: 16.0679\n",
      "Epoch [19/50], Loss: 28.7919\n",
      "Epoch [20/50], Loss: 40.8731\n",
      "Epoch [21/50], Loss: 42.7976\n",
      "Epoch [22/50], Loss: 15.6482\n",
      "Epoch [23/50], Loss: 0.9793\n",
      "Epoch [24/50], Loss: 0.9286\n",
      "Epoch [25/50], Loss: 1.0509\n",
      "Epoch [26/50], Loss: 15.6346\n",
      "Epoch [27/50], Loss: 13.5620\n",
      "Epoch [28/50], Loss: 0.7972\n",
      "Epoch [29/50], Loss: 0.9103\n",
      "Epoch [30/50], Loss: 15.5107\n",
      "Epoch [31/50], Loss: 42.8695\n",
      "Epoch [32/50], Loss: 14.7832\n",
      "Epoch [33/50], Loss: 0.7543\n",
      "Epoch [34/50], Loss: 15.1957\n",
      "Epoch [35/50], Loss: 15.6423\n",
      "Epoch [36/50], Loss: 0.9059\n",
      "Epoch [37/50], Loss: 29.1770\n",
      "Epoch [38/50], Loss: 28.5250\n",
      "Epoch [39/50], Loss: 30.1497\n",
      "Epoch [40/50], Loss: 15.4043\n",
      "Epoch [41/50], Loss: 29.4049\n",
      "Epoch [42/50], Loss: 15.4603\n",
      "Epoch [43/50], Loss: 27.5573\n",
      "Epoch [44/50], Loss: 0.7933\n",
      "Epoch [45/50], Loss: 0.7671\n",
      "Epoch [46/50], Loss: 15.1778\n",
      "Epoch [47/50], Loss: 0.6777\n",
      "Epoch [48/50], Loss: 15.5203\n",
      "Epoch [49/50], Loss: 14.6441\n",
      "Epoch [50/50], Loss: 13.7584\n",
      "Test Loss: 0.9168\n"
     ]
    }
   ],
   "source": [
    "import torch\n",
    "import torch.nn as nn\n",
    "import torch.optim as optim\n",
    "from torch.utils.data import DataLoader, TensorDataset\n",
    "from sklearn.preprocessing import StandardScaler\n",
    "from sklearn.model_selection import train_test_split\n",
    "import torch.nn.functional as F\n",
    "\n",
    "\n",
    "features = ['Day.Of.Week', 'Date', 'Year', 'Month', 'DayMonth', 'Page.Loads', 'First.Time.Visits', 'Returning.Visits']\n",
    "target = 'Unique.Visits'\n",
    "\n",
    "# Select features and target variable\n",
    "data = df[features + [target]]\n",
    "\n",
    "# Sort by date\n",
    "data = data.sort_values('Date')\n",
    "data = data.drop('Date', axis=1)\n",
    "features.remove('Date')\n",
    "# Normalize the data\n",
    "scaler = StandardScaler()\n",
    "data[['Day.Of.Week', 'Page.Loads', 'First.Time.Visits', 'Returning.Visits']] = scaler.fit_transform(data[['Day.Of.Week', 'Page.Loads', 'First.Time.Visits', 'Returning.Visits']])\n",
    "\n",
    "# Create sequences for the LSTM\n",
    "sequence_length = 7\n",
    "X, y = [], []\n",
    "\n",
    "for i in range(len(data) - sequence_length):\n",
    "    X.append(data.iloc[i:i+sequence_length][features].values)\n",
    "    y.append(data.iloc[i+sequence_length][target])\n",
    "\n",
    "# X, y = np.array(X), np.array(y)\n",
    "\n",
    "# Convert to PyTorch tensors\n",
    "X_tensor = torch.FloatTensor(X)\n",
    "y_tensor = torch.FloatTensor(y)\n",
    "\n",
    "# Train-test split\n",
    "X_train, X_test, y_train, y_test = train_test_split(X_tensor, y_tensor, test_size=0.2, random_state=42)\n",
    "\n",
    "# Create DataLoader\n",
    "train_dataset = TensorDataset(X_train, y_train)\n",
    "test_dataset = TensorDataset(X_test, y_test)\n",
    "\n",
    "train_loader = DataLoader(train_dataset, batch_size=64, shuffle=True)\n",
    "test_loader = DataLoader(test_dataset, batch_size=64, shuffle=False)\n",
    "\n",
    "# Define the LSTM model\n",
    "class LSTMModel(nn.Module):\n",
    "    def __init__(self, input_size, hidden_size, output_size, num_layers, dropout):\n",
    "        super(LSTMModel, self).__init__()\n",
    "        self.lstm = nn.LSTM(input_size, hidden_size, num_layers=num_layers, dropout=dropout, batch_first=True)\n",
    "        self.fc = nn.Linear(hidden_size, output_size)\n",
    "\n",
    "    def forward(self, x):\n",
    "        out, _ = self.lstm(x)\n",
    "        out = F.relu(out[:, -1, :])  # Use the output of the last time step\n",
    "        out = self.fc(out)\n",
    "        return out\n",
    "    # def forward(self, x):\n",
    "    #     _, (h_n, _) = self.lstm(x)\n",
    "    #     out = self.fc(h_n[-1])\n",
    "    #     return out\n",
    "\n",
    "# Instantiate the model\n",
    "input_size = len(features)\n",
    "hidden_size = 64\n",
    "output_size = 1\n",
    "num_layers = 2\n",
    "dropout = 0.2\n",
    "\n",
    "model = LSTMModel(input_size, hidden_size, output_size, num_layers, dropout)\n",
    "\n",
    "# Define loss function and optimizer\n",
    "# criterion = nn.MSELoss()\n",
    "criterion = nn.L1Loss()\n",
    "optimizer = optim.Adam(model.parameters(), lr=0.0001)\n",
    "\n",
    "# Training the model\n",
    "num_epochs = 50\n",
    "losses = []\n",
    "for epoch in range(num_epochs):\n",
    "    for inputs, labels in train_loader:\n",
    "        optimizer.zero_grad()\n",
    "        outputs = model(inputs)\n",
    "        loss = criterion(outputs.squeeze(), labels)\n",
    "        loss.backward()\n",
    "        optimizer.step()\n",
    "    losses.append(loss.item())\n",
    "    print(f'Epoch [{epoch+1}/{num_epochs}], Loss: {loss.item():.4f}')\n",
    "\n",
    "# Evaluate the model on the test set\n",
    "model.eval()\n",
    "with torch.no_grad():\n",
    "    for inputs, labels in test_loader:\n",
    "        outputs = model(inputs)\n",
    "        test_loss = criterion(outputs.squeeze(), labels)\n",
    "\n",
    "print(f'Test Loss: {test_loss.item():.4f}')\n",
    "# todo: split into validation too"
   ],
   "metadata": {
    "collapsed": false,
    "pycharm": {
     "name": "#%%\n"
    }
   }
  },
  {
   "cell_type": "code",
   "execution_count": 98,
   "outputs": [
    {
     "data": {
      "text/plain": "<Figure size 432x288 with 1 Axes>",
      "image/png": "[encoded data removed]"
     },
     "metadata": {
      "needs_background": "light"
     },
     "output_type": "display_data"
    }
   ],
   "source": [
    "import matplotlib.pyplot as plt\n",
    "\n",
    "# Plot the training loss\n",
    "plt.plot(range(1, num_epochs+1), losses, label='Training Loss')\n",
    "plt.xlabel('Epoch')\n",
    "plt.ylabel('Loss')\n",
    "plt.title('Training Loss Over Epochs')\n",
    "plt.legend()\n",
    "plt.show()"
   ],
   "metadata": {
    "collapsed": false,
    "pycharm": {
     "name": "#%%\n"
    }
   }
  },
  {
   "cell_type": "code",
   "execution_count": 99,
   "outputs": [
    {
     "data": {
      "text/plain": "<Figure size 432x288 with 1 Axes>",
      "image/png": "[encoded data removed]"
     },
     "metadata": {
      "needs_background": "light"
     },
     "output_type": "display_data"
    }
   ],
   "source": [
    "import matplotlib.pyplot as plt\n",
    "\n",
    "# Switch the model to evaluation mode\n",
    "model.eval()\n",
    "\n",
    "# Make predictions on the entire dataset\n",
    "with torch.no_grad():\n",
    "    all_inputs = torch.FloatTensor(X)\n",
    "    all_predictions = model(all_inputs)\n",
    "\n",
    "# Convert the predictions and actual values to numpy arrays\n",
    "scaler_y = StandardScaler()\n",
    "scaler_y.fit(np.array(y).reshape(-1,1))\n",
    "predictions_np = scaler_y.inverse_transform(all_predictions.squeeze().numpy().reshape(-1, 1)).flatten()\n",
    "actual_values_np = np.array(y).reshape(-1,1).flatten()\n",
    "\n",
    "# print(predictions_np.squeeze()[:3], actual_values_np[:3])\n",
    "# Plot the actual values and predictions\n",
    "plt.plot(actual_values_np, label='Actual Values', linestyle='-')\n",
    "plt.plot(predictions_np.squeeze(), label='Predictions', linestyle='--')\n",
    "plt.xlabel('Time')\n",
    "plt.ylabel('Unique Visits')\n",
    "plt.title('Actual vs Predicted Values')\n",
    "plt.legend()\n",
    "plt.show()"
   ],
   "metadata": {
    "collapsed": false,
    "pycharm": {
     "name": "#%%\n"
    }
   }
  },
  {
   "cell_type": "code",
   "execution_count": 52,
   "outputs": [
    {
     "data": {
      "text/plain": "list"
     },
     "execution_count": 52,
     "metadata": {},
     "output_type": "execute_result"
    }
   ],
   "source": [],
   "metadata": {
    "collapsed": false,
    "pycharm": {
     "name": "#%%\n"
    }
   }
  }
 ],
 "metadata": {
  "kernelspec": {
   "name": "pycharm-e939252c",
   "language": "python",
   "display_name": "PyCharm (data_analysis_folder)"
  },
  "language_info": {
   "codemirror_mode": {
    "name": "ipython",
    "version": 2
   },
   "file_extension": ".py",
   "mimetype": "text/x-python",
   "name": "python",
   "nbconvert_exporter": "python",
   "pygments_lexer": "ipython2",
   "version": "2.7.6"
  }
 },
 "nbformat": 4,
 "nbformat_minor": 0
}